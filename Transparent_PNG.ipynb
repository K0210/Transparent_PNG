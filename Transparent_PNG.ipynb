{
  "nbformat": 4,
  "nbformat_minor": 0,
  "metadata": {
    "colab": {
      "provenance": [],
      "authorship_tag": "ABX9TyP91RiILgjJA1QhIMIYBEX1",
      "include_colab_link": true
    },
    "kernelspec": {
      "name": "python3",
      "display_name": "Python 3"
    },
    "language_info": {
      "name": "python"
    }
  },
  "cells": [
    {
      "cell_type": "markdown",
      "metadata": {
        "id": "view-in-github",
        "colab_type": "text"
      },
      "source": [
        "<a href=\"https://colab.research.google.com/github/K0210/Transparent_PNG/blob/main/Transparent_PNG.ipynb\" target=\"_parent\"><img src=\"https://colab.research.google.com/assets/colab-badge.svg\" alt=\"Open In Colab\"/></a>"
      ]
    },
    {
      "cell_type": "code",
      "execution_count": null,
      "metadata": {
        "id": "PN9rkbP1hVRO",
        "cellView": "form"
      },
      "outputs": [],
      "source": [
        "#@title 画像の読み込みと透過させる位置の選択\n",
        "\n",
        "# モジュール読み込み\n",
        "import cv2\n",
        "from google.colab.patches import cv2_imshow\n",
        "from google.colab import files\n",
        "import numpy as np\n",
        "\n",
        "# 元画像の読み込み\n",
        "uploaded = files.upload()\n",
        "filename = list(uploaded.keys())[0]\n",
        "img = cv2.imread(filename)\n",
        "\n",
        "# 透過させる位置の選択\n",
        "x = 0.5671 #@param {type:\"slider\", min:0, max:1, step:0.0001}\n",
        "y = 0.8776 #@param {type:\"slider\", min:0, max:1, step:0.0001}\n",
        "b_channel = img[int(img.shape[0]*x), int(img.shape[1]*y), 0]\n",
        "g_channel = img[int(img.shape[0]*x), int(img.shape[1]*y), 1]\n",
        "r_channel = img[int(img.shape[0]*x), int(img.shape[1]*y), 2]\n",
        "\n",
        "# RGB値を出力\n",
        "print('B: {}\\nG: {}\\nR: {}'.format(b_channel,g_channel,r_channel))\n",
        "\n",
        "# mask画像生成\n",
        "mask = np.all(img[:,:,:] == [b_channel, g_channel, r_channel], axis = -1)"
      ]
    },
    {
      "cell_type": "code",
      "source": [
        "#@title 特定の色の部分に対応するマスク画像を生成\n",
        "B = 218 #@param {type:\"slider\", min:0, max:255, step:1}\n",
        "G = 137 #@param {type:\"slider\", min:0, max:255, step:1}\n",
        "R = 210 #@param {type:\"slider\", min:0, max:255, step:1}\n",
        "mask = np.all(img[:,:,:] == [B,G,R], axis=-1)"
      ],
      "metadata": {
        "id": "W32o_eD7iiLn",
        "cellView": "form"
      },
      "execution_count": null,
      "outputs": []
    },
    {
      "cell_type": "code",
      "source": [
        "\n",
        "#@title saving image\n",
        "# 元画像をBGR形式からBGRA形式に変換\n",
        "dst = cv2.cvtColor(img, cv2.COLOR_BGR2BGRA)\n",
        "\n",
        "# マスク画像をもとに、指定された色部分を透明化\n",
        "dst[mask,3] = 0\n",
        "\n",
        "# 出力画像を表示\n",
        "cv2_imshow(dst)\n",
        "\n",
        "# 出力画像を保存\n",
        "cv2.imwrite(filename + \"_alpha.png\",dst)"
      ],
      "metadata": {
        "id": "Jy8uVzjPio3x",
        "cellView": "form"
      },
      "execution_count": null,
      "outputs": []
    }
  ]
}
